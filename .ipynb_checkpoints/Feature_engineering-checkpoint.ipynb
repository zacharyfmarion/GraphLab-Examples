{
 "cells": [
  {
   "cell_type": "code",
   "execution_count": 3,
   "metadata": {
    "collapsed": true
   },
   "outputs": [],
   "source": [
    "import graphlab as gl"
   ]
  },
  {
   "cell_type": "markdown",
   "metadata": {},
   "source": [
    "### Simple Penn Style Tokennizer"
   ]
  },
  {
   "cell_type": "code",
   "execution_count": 4,
   "metadata": {
    "collapsed": false
   },
   "outputs": [
    {
     "name": "stderr",
     "output_type": "stream",
     "text": [
      "2016-03-22 15:32:35,958 [INFO] graphlab.cython.cy_server, 176: GraphLab Create v1.8.5 started. Logging: /tmp/graphlab_server_1458675153.log\n"
     ]
    },
    {
     "name": "stdout",
     "output_type": "stream",
     "text": [
      "This non-commercial license of GraphLab Create is assigned to zfm2@duke.edu and will expire on March 22, 2017. For commercial licensing options, visit https://dato.com/buy/.\n"
     ]
    }
   ],
   "source": [
    "sf = gl.SFrame({'docs': [\"This is a document!\",\n",
    "                        \"This one is also a document.\"]})"
   ]
  },
  {
   "cell_type": "code",
   "execution_count": 5,
   "metadata": {
    "collapsed": true
   },
   "outputs": [],
   "source": [
    "tokenizer = gl.feature_engineering.Tokenizer(features = ['docs'])"
   ]
  },
  {
   "cell_type": "code",
   "execution_count": 6,
   "metadata": {
    "collapsed": false
   },
   "outputs": [
    {
     "data": {
      "text/plain": [
       "Class                         : Tokenizer\n",
       "\n",
       "Model fields\n",
       "------------\n",
       "Features                      : ['docs']\n",
       "Convert strings to lower case : 0\n",
       "Delimiters                    : ['\\r', '\\x0b', '\\n', '\\x0c', '\\t', ' ']\n",
       "Output column prefix          : None"
      ]
     },
     "execution_count": 6,
     "metadata": {},
     "output_type": "execute_result"
    }
   ],
   "source": [
    "tokenizer.fit(sf)"
   ]
  },
  {
   "cell_type": "code",
   "execution_count": 8,
   "metadata": {
    "collapsed": false
   },
   "outputs": [],
   "source": [
    "tokenizer_sf = tokenizer.transform(sf)"
   ]
  },
  {
   "cell_type": "code",
   "execution_count": 10,
   "metadata": {
    "collapsed": false
   },
   "outputs": [
    {
     "name": "stdout",
     "output_type": "stream",
     "text": [
      "+-------------------------------+\n",
      "|              docs             |\n",
      "+-------------------------------+\n",
      "|    [This, is, a, document!]   |\n",
      "| [This, one, is, also, a, d... |\n",
      "+-------------------------------+\n",
      "[2 rows x 1 columns]\n",
      "\n"
     ]
    }
   ],
   "source": [
    "print tokenizer_sf"
   ]
  },
  {
   "cell_type": "code",
   "execution_count": 11,
   "metadata": {
    "collapsed": false
   },
   "outputs": [
    {
     "name": "stdout",
     "output_type": "stream",
     "text": [
      "Canvas is accessible via web browser at the URL: http://localhost:53256/index.html\n",
      "Opening Canvas in default web browser.\n"
     ]
    }
   ],
   "source": [
    "tokenizer_sf.show()"
   ]
  },
  {
   "cell_type": "markdown",
   "metadata": {},
   "source": [
    "### Deep feature extractor (MNIST)"
   ]
  },
  {
   "cell_type": "code",
   "execution_count": 12,
   "metadata": {
    "collapsed": false
   },
   "outputs": [
    {
     "data": {
      "text/html": [
       "<pre>Downloading http://s3.amazonaws.com/dato-datasets/mnist/sframe/train6k/dir_archive.ini to /var/tmp/graphlab-Zachary/6265/353d1e3e-76d3-4d7f-b054-080f5d1fc3f8.ini</pre>"
      ],
      "text/plain": [
       "Downloading http://s3.amazonaws.com/dato-datasets/mnist/sframe/train6k/dir_archive.ini to /var/tmp/graphlab-Zachary/6265/353d1e3e-76d3-4d7f-b054-080f5d1fc3f8.ini"
      ]
     },
     "metadata": {},
     "output_type": "display_data"
    },
    {
     "data": {
      "text/html": [
       "<pre>Downloading http://s3.amazonaws.com/dato-datasets/mnist/sframe/train6k/objects.bin to /var/tmp/graphlab-Zachary/6265/b44475e4-ef86-455b-81f9-47bc7f2609ff.bin</pre>"
      ],
      "text/plain": [
       "Downloading http://s3.amazonaws.com/dato-datasets/mnist/sframe/train6k/objects.bin to /var/tmp/graphlab-Zachary/6265/b44475e4-ef86-455b-81f9-47bc7f2609ff.bin"
      ]
     },
     "metadata": {},
     "output_type": "display_data"
    },
    {
     "data": {
      "text/html": [
       "<pre>Downloading http://s3.amazonaws.com/dato-datasets/mnist/sframe/train6k/m_1ae88fdf.frame_idx to /var/tmp/graphlab-Zachary/6265/69ba5298-9f66-4d8a-a50b-e023335d7824.frame_idx</pre>"
      ],
      "text/plain": [
       "Downloading http://s3.amazonaws.com/dato-datasets/mnist/sframe/train6k/m_1ae88fdf.frame_idx to /var/tmp/graphlab-Zachary/6265/69ba5298-9f66-4d8a-a50b-e023335d7824.frame_idx"
      ]
     },
     "metadata": {},
     "output_type": "display_data"
    },
    {
     "data": {
      "text/html": [
       "<pre>Downloading http://s3.amazonaws.com/dato-datasets/mnist/sframe/train6k/m_1ae88fdf.sidx to /var/tmp/graphlab-Zachary/6265/d58c3ea0-14f5-4aac-8d7b-1854577ba3fe.sidx</pre>"
      ],
      "text/plain": [
       "Downloading http://s3.amazonaws.com/dato-datasets/mnist/sframe/train6k/m_1ae88fdf.sidx to /var/tmp/graphlab-Zachary/6265/d58c3ea0-14f5-4aac-8d7b-1854577ba3fe.sidx"
      ]
     },
     "metadata": {},
     "output_type": "display_data"
    }
   ],
   "source": [
    "data = gl.SFrame('http://s3.amazonaws.com/dato-datasets/mnist/sframe/train6k')"
   ]
  },
  {
   "cell_type": "code",
   "execution_count": 13,
   "metadata": {
    "collapsed": false
   },
   "outputs": [
    {
     "data": {
      "text/html": [
       "<pre>Downloading http://s3.amazonaws.com/dato-datasets/deeplearning/imagenet_model_iter45/dir_archive.ini to /var/tmp/graphlab-Zachary/6265/b0d0abd9-f17c-485d-a317-fd54277b476e.ini</pre>"
      ],
      "text/plain": [
       "Downloading http://s3.amazonaws.com/dato-datasets/deeplearning/imagenet_model_iter45/dir_archive.ini to /var/tmp/graphlab-Zachary/6265/b0d0abd9-f17c-485d-a317-fd54277b476e.ini"
      ]
     },
     "metadata": {},
     "output_type": "display_data"
    },
    {
     "data": {
      "text/html": [
       "<pre>Downloading http://s3.amazonaws.com/dato-datasets/deeplearning/imagenet_model_iter45/objects.bin to /var/tmp/graphlab-Zachary/6265/1da4016b-c899-49af-a7e9-22aa7e0fb7a3.bin</pre>"
      ],
      "text/plain": [
       "Downloading http://s3.amazonaws.com/dato-datasets/deeplearning/imagenet_model_iter45/objects.bin to /var/tmp/graphlab-Zachary/6265/1da4016b-c899-49af-a7e9-22aa7e0fb7a3.bin"
      ]
     },
     "metadata": {},
     "output_type": "display_data"
    }
   ],
   "source": [
    "# Create a DeepFeatureExtractorObject\n",
    "#If `model='auto'` is used, an appropriate model is chosen from a collection \n",
    "#of pre-trained models hosted by Dato.\n",
    "\n",
    "extractor = gl.feature_engineering.DeepFeatureExtractor(features = 'image',\n",
    "                                                       model = 'auto')"
   ]
  },
  {
   "cell_type": "code",
   "execution_count": 14,
   "metadata": {
    "collapsed": false
   },
   "outputs": [
    {
     "data": {
      "text/html": [
       "<pre>Downloading http://s3.amazonaws.com/dato-datasets/mnist/sframe/train6k/m_1ae88fdf.0000 to /var/tmp/graphlab-Zachary/6265/d80bc330-8a95-4aa6-b5db-94c0e30fc5b4.0000</pre>"
      ],
      "text/plain": [
       "Downloading http://s3.amazonaws.com/dato-datasets/mnist/sframe/train6k/m_1ae88fdf.0000 to /var/tmp/graphlab-Zachary/6265/d80bc330-8a95-4aa6-b5db-94c0e30fc5b4.0000"
      ]
     },
     "metadata": {},
     "output_type": "display_data"
    },
    {
     "data": {
      "text/html": [
       "<pre>Downloading http://s3.amazonaws.com/dato-datasets/mnist/sframe/train6k/m_1ae88fdf.0001 to /var/tmp/graphlab-Zachary/6265/bfa0bb78-ae41-4c33-af28-a7cbaefe1096.0001</pre>"
      ],
      "text/plain": [
       "Downloading http://s3.amazonaws.com/dato-datasets/mnist/sframe/train6k/m_1ae88fdf.0001 to /var/tmp/graphlab-Zachary/6265/bfa0bb78-ae41-4c33-af28-a7cbaefe1096.0001"
      ]
     },
     "metadata": {},
     "output_type": "display_data"
    },
    {
     "data": {
      "text/html": [
       "<pre>Downloading http://s3.amazonaws.com/dato-datasets/mnist/sframe/train6k/m_1ae88fdf.0002 to /var/tmp/graphlab-Zachary/6265/dc2d3889-d9f5-40ba-8b4a-9500ae4ac2bc.0002</pre>"
      ],
      "text/plain": [
       "Downloading http://s3.amazonaws.com/dato-datasets/mnist/sframe/train6k/m_1ae88fdf.0002 to /var/tmp/graphlab-Zachary/6265/dc2d3889-d9f5-40ba-8b4a-9500ae4ac2bc.0002"
      ]
     },
     "metadata": {},
     "output_type": "display_data"
    },
    {
     "data": {
      "text/html": [
       "<pre>Downloading http://s3.amazonaws.com/dato-datasets/mnist/sframe/train6k/m_1ae88fdf.0003 to /var/tmp/graphlab-Zachary/6265/01b6e173-9dbf-4e94-840a-afd3467a8052.0003</pre>"
      ],
      "text/plain": [
       "Downloading http://s3.amazonaws.com/dato-datasets/mnist/sframe/train6k/m_1ae88fdf.0003 to /var/tmp/graphlab-Zachary/6265/01b6e173-9dbf-4e94-840a-afd3467a8052.0003"
      ]
     },
     "metadata": {},
     "output_type": "display_data"
    },
    {
     "data": {
      "text/html": [
       "<pre>Downloading http://s3.amazonaws.com/dato-datasets/mnist/sframe/train6k/m_1ae88fdf.0004 to /var/tmp/graphlab-Zachary/6265/9076d1fd-3dce-4cb7-aaa5-028f92eb9875.0004</pre>"
      ],
      "text/plain": [
       "Downloading http://s3.amazonaws.com/dato-datasets/mnist/sframe/train6k/m_1ae88fdf.0004 to /var/tmp/graphlab-Zachary/6265/9076d1fd-3dce-4cb7-aaa5-028f92eb9875.0004"
      ]
     },
     "metadata": {},
     "output_type": "display_data"
    },
    {
     "data": {
      "text/html": [
       "<pre>Downloading http://s3.amazonaws.com/dato-datasets/mnist/sframe/train6k/m_1ae88fdf.0005 to /var/tmp/graphlab-Zachary/6265/4d468f3a-5688-4609-8017-394cc915872c.0005</pre>"
      ],
      "text/plain": [
       "Downloading http://s3.amazonaws.com/dato-datasets/mnist/sframe/train6k/m_1ae88fdf.0005 to /var/tmp/graphlab-Zachary/6265/4d468f3a-5688-4609-8017-394cc915872c.0005"
      ]
     },
     "metadata": {},
     "output_type": "display_data"
    },
    {
     "data": {
      "text/html": [
       "<pre>Downloading http://s3.amazonaws.com/dato-datasets/mnist/sframe/train6k/m_1ae88fdf.0006 to /var/tmp/graphlab-Zachary/6265/df879f80-0ad8-4621-b34a-babfa7d1071f.0006</pre>"
      ],
      "text/plain": [
       "Downloading http://s3.amazonaws.com/dato-datasets/mnist/sframe/train6k/m_1ae88fdf.0006 to /var/tmp/graphlab-Zachary/6265/df879f80-0ad8-4621-b34a-babfa7d1071f.0006"
      ]
     },
     "metadata": {},
     "output_type": "display_data"
    },
    {
     "data": {
      "text/html": [
       "<pre>Downloading http://s3.amazonaws.com/dato-datasets/mnist/sframe/train6k/m_1ae88fdf.0007 to /var/tmp/graphlab-Zachary/6265/98e819ad-8990-4b7f-8f1b-cace7e88c84d.0007</pre>"
      ],
      "text/plain": [
       "Downloading http://s3.amazonaws.com/dato-datasets/mnist/sframe/train6k/m_1ae88fdf.0007 to /var/tmp/graphlab-Zachary/6265/98e819ad-8990-4b7f-8f1b-cace7e88c84d.0007"
      ]
     },
     "metadata": {},
     "output_type": "display_data"
    },
    {
     "data": {
      "text/html": [
       "<div style=\"max-height:1000px;max-width:1500px;overflow:auto;\"><table frame=\"box\" rules=\"cols\">\n",
       "    <tr>\n",
       "        <th style=\"padding-left: 1em; padding-right: 1em; text-align: center\">label</th>\n",
       "        <th style=\"padding-left: 1em; padding-right: 1em; text-align: center\">image</th>\n",
       "    </tr>\n",
       "    <tr>\n",
       "        <td style=\"padding-left: 1em; padding-right: 1em; text-align: center; vertical-align: top\">5</td>\n",
       "        <td style=\"padding-left: 1em; padding-right: 1em; text-align: center; vertical-align: top\">Height: 28 Width: 28</td>\n",
       "    </tr>\n",
       "    <tr>\n",
       "        <td style=\"padding-left: 1em; padding-right: 1em; text-align: center; vertical-align: top\">8</td>\n",
       "        <td style=\"padding-left: 1em; padding-right: 1em; text-align: center; vertical-align: top\">Height: 28 Width: 28</td>\n",
       "    </tr>\n",
       "    <tr>\n",
       "        <td style=\"padding-left: 1em; padding-right: 1em; text-align: center; vertical-align: top\">1</td>\n",
       "        <td style=\"padding-left: 1em; padding-right: 1em; text-align: center; vertical-align: top\">Height: 28 Width: 28</td>\n",
       "    </tr>\n",
       "    <tr>\n",
       "        <td style=\"padding-left: 1em; padding-right: 1em; text-align: center; vertical-align: top\">4</td>\n",
       "        <td style=\"padding-left: 1em; padding-right: 1em; text-align: center; vertical-align: top\">Height: 28 Width: 28</td>\n",
       "    </tr>\n",
       "    <tr>\n",
       "        <td style=\"padding-left: 1em; padding-right: 1em; text-align: center; vertical-align: top\">2</td>\n",
       "        <td style=\"padding-left: 1em; padding-right: 1em; text-align: center; vertical-align: top\">Height: 28 Width: 28</td>\n",
       "    </tr>\n",
       "    <tr>\n",
       "        <td style=\"padding-left: 1em; padding-right: 1em; text-align: center; vertical-align: top\">7</td>\n",
       "        <td style=\"padding-left: 1em; padding-right: 1em; text-align: center; vertical-align: top\">Height: 28 Width: 28</td>\n",
       "    </tr>\n",
       "    <tr>\n",
       "        <td style=\"padding-left: 1em; padding-right: 1em; text-align: center; vertical-align: top\">0</td>\n",
       "        <td style=\"padding-left: 1em; padding-right: 1em; text-align: center; vertical-align: top\">Height: 28 Width: 28</td>\n",
       "    </tr>\n",
       "    <tr>\n",
       "        <td style=\"padding-left: 1em; padding-right: 1em; text-align: center; vertical-align: top\">2</td>\n",
       "        <td style=\"padding-left: 1em; padding-right: 1em; text-align: center; vertical-align: top\">Height: 28 Width: 28</td>\n",
       "    </tr>\n",
       "    <tr>\n",
       "        <td style=\"padding-left: 1em; padding-right: 1em; text-align: center; vertical-align: top\">5</td>\n",
       "        <td style=\"padding-left: 1em; padding-right: 1em; text-align: center; vertical-align: top\">Height: 28 Width: 28</td>\n",
       "    </tr>\n",
       "    <tr>\n",
       "        <td style=\"padding-left: 1em; padding-right: 1em; text-align: center; vertical-align: top\">9</td>\n",
       "        <td style=\"padding-left: 1em; padding-right: 1em; text-align: center; vertical-align: top\">Height: 28 Width: 28</td>\n",
       "    </tr>\n",
       "</table>\n",
       "[6000 rows x 2 columns]<br/>Note: Only the head of the SFrame is printed.<br/>You can use print_rows(num_rows=m, num_columns=n) to print more rows and columns.\n",
       "</div>"
      ],
      "text/plain": [
       "Columns:\n",
       "\tlabel\tint\n",
       "\timage\tImage\n",
       "\n",
       "Rows: 6000\n",
       "\n",
       "Data:\n",
       "+-------+----------------------+\n",
       "| label |        image         |\n",
       "+-------+----------------------+\n",
       "|   5   | Height: 28 Width: 28 |\n",
       "|   8   | Height: 28 Width: 28 |\n",
       "|   1   | Height: 28 Width: 28 |\n",
       "|   4   | Height: 28 Width: 28 |\n",
       "|   2   | Height: 28 Width: 28 |\n",
       "|   7   | Height: 28 Width: 28 |\n",
       "|   0   | Height: 28 Width: 28 |\n",
       "|   2   | Height: 28 Width: 28 |\n",
       "|   5   | Height: 28 Width: 28 |\n",
       "|   9   | Height: 28 Width: 28 |\n",
       "+-------+----------------------+\n",
       "[6000 rows x 2 columns]\n",
       "Note: Only the head of the SFrame is printed.\n",
       "You can use print_rows(num_rows=m, num_columns=n) to print more rows and columns."
      ]
     },
     "execution_count": 14,
     "metadata": {},
     "output_type": "execute_result"
    }
   ],
   "source": [
    "data"
   ]
  },
  {
   "cell_type": "code",
   "execution_count": 15,
   "metadata": {
    "collapsed": true
   },
   "outputs": [],
   "source": [
    "extractor = extractor.fit(data)"
   ]
  },
  {
   "cell_type": "code",
   "execution_count": 16,
   "metadata": {
    "collapsed": true
   },
   "outputs": [],
   "source": [
    "# Return the model used for the extraction\n",
    "extracted_model = extractor['model']"
   ]
  },
  {
   "cell_type": "code",
   "execution_count": null,
   "metadata": {
    "collapsed": false
   },
   "outputs": [
    {
     "data": {
      "text/html": [
       "<pre>Images being resized.</pre>"
      ],
      "text/plain": [
       "Images being resized."
      ]
     },
     "metadata": {},
     "output_type": "display_data"
    }
   ],
   "source": [
    "# Extract the features from the MNIST dataset:\n",
    "features_sf = extractor.transform(data)"
   ]
  },
  {
   "cell_type": "code",
   "execution_count": null,
   "metadata": {
    "collapsed": true
   },
   "outputs": [],
   "source": [
    "# Train the classifier\n",
    "model = gl.logistic_classifier.create(features_sf, target='label', \n",
    "                              features =  ['deep_features_image'])"
   ]
  },
  {
   "cell_type": "code",
   "execution_count": null,
   "metadata": {
    "collapsed": true
   },
   "outputs": [],
   "source": []
  }
 ],
 "metadata": {
  "kernelspec": {
   "display_name": "Python 2",
   "language": "python",
   "name": "python2"
  },
  "language_info": {
   "codemirror_mode": {
    "name": "ipython",
    "version": 2
   },
   "file_extension": ".py",
   "mimetype": "text/x-python",
   "name": "python",
   "nbconvert_exporter": "python",
   "pygments_lexer": "ipython2",
   "version": "2.7.11"
  }
 },
 "nbformat": 4,
 "nbformat_minor": 0
}
