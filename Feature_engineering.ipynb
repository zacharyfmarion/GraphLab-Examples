{
 "cells": [
  {
   "cell_type": "code",
   "execution_count": 1,
   "metadata": {
    "collapsed": true
   },
   "outputs": [],
   "source": [
    "import graphlab as gl"
   ]
  },
  {
   "cell_type": "markdown",
   "metadata": {},
   "source": [
    "### Simple Penn Style Tokennizer"
   ]
  },
  {
   "cell_type": "code",
   "execution_count": 2,
   "metadata": {
    "collapsed": false
   },
   "outputs": [
    {
     "name": "stderr",
     "output_type": "stream",
     "text": [
      "2016-03-22 16:39:30,880 [INFO] graphlab.cython.cy_server, 176: GraphLab Create v1.8.5 started. Logging: /tmp/graphlab_server_1458679169.log\n"
     ]
    },
    {
     "name": "stdout",
     "output_type": "stream",
     "text": [
      "This non-commercial license of GraphLab Create is assigned to zfm2@duke.edu and will expire on March 22, 2017. For commercial licensing options, visit https://dato.com/buy/.\n"
     ]
    }
   ],
   "source": [
    "sf = gl.SFrame({'docs': [\"This is a document!\",\n",
    "                        \"This one is also a document.\"]})"
   ]
  },
  {
   "cell_type": "code",
   "execution_count": 3,
   "metadata": {
    "collapsed": true
   },
   "outputs": [],
   "source": [
    "tokenizer = gl.feature_engineering.Tokenizer(features = ['docs'])"
   ]
  },
  {
   "cell_type": "code",
   "execution_count": 4,
   "metadata": {
    "collapsed": false
   },
   "outputs": [
    {
     "data": {
      "text/plain": [
       "Class                         : Tokenizer\n",
       "\n",
       "Model fields\n",
       "------------\n",
       "Features                      : ['docs']\n",
       "Convert strings to lower case : 0\n",
       "Delimiters                    : ['\\r', '\\x0b', '\\n', '\\x0c', '\\t', ' ']\n",
       "Output column prefix          : None"
      ]
     },
     "execution_count": 4,
     "metadata": {},
     "output_type": "execute_result"
    }
   ],
   "source": [
    "tokenizer.fit(sf)"
   ]
  },
  {
   "cell_type": "code",
   "execution_count": 5,
   "metadata": {
    "collapsed": false
   },
   "outputs": [],
   "source": [
    "tokenizer_sf = tokenizer.transform(sf)"
   ]
  },
  {
   "cell_type": "code",
   "execution_count": 6,
   "metadata": {
    "collapsed": false
   },
   "outputs": [
    {
     "name": "stdout",
     "output_type": "stream",
     "text": [
      "+-------------------------------+\n",
      "|              docs             |\n",
      "+-------------------------------+\n",
      "|    [This, is, a, document!]   |\n",
      "| [This, one, is, also, a, d... |\n",
      "+-------------------------------+\n",
      "[2 rows x 1 columns]\n",
      "\n"
     ]
    }
   ],
   "source": [
    "print tokenizer_sf"
   ]
  },
  {
   "cell_type": "code",
   "execution_count": 11,
   "metadata": {
    "collapsed": false
   },
   "outputs": [
    {
     "name": "stdout",
     "output_type": "stream",
     "text": [
      "Canvas is accessible via web browser at the URL: http://localhost:53256/index.html\n",
      "Opening Canvas in default web browser.\n"
     ]
    }
   ],
   "source": [
    "tokenizer_sf.show()"
   ]
  },
  {
   "cell_type": "markdown",
   "metadata": {},
   "source": [
    "### Deep feature extractor (MNIST)"
   ]
  },
  {
   "cell_type": "code",
   "execution_count": 7,
   "metadata": {
    "collapsed": false
   },
   "outputs": [
    {
     "data": {
      "text/html": [
       "<pre>Downloading http://s3.amazonaws.com/dato-datasets/mnist/sframe/train6k/dir_archive.ini to /var/tmp/graphlab-Zachary/6767/f0d2691b-550c-4334-afa0-3f418af43844.ini</pre>"
      ],
      "text/plain": [
       "Downloading http://s3.amazonaws.com/dato-datasets/mnist/sframe/train6k/dir_archive.ini to /var/tmp/graphlab-Zachary/6767/f0d2691b-550c-4334-afa0-3f418af43844.ini"
      ]
     },
     "metadata": {},
     "output_type": "display_data"
    },
    {
     "data": {
      "text/html": [
       "<pre>Downloading http://s3.amazonaws.com/dato-datasets/mnist/sframe/train6k/objects.bin to /var/tmp/graphlab-Zachary/6767/c524c927-405f-4f8e-94b5-7dbf5edc2ec9.bin</pre>"
      ],
      "text/plain": [
       "Downloading http://s3.amazonaws.com/dato-datasets/mnist/sframe/train6k/objects.bin to /var/tmp/graphlab-Zachary/6767/c524c927-405f-4f8e-94b5-7dbf5edc2ec9.bin"
      ]
     },
     "metadata": {},
     "output_type": "display_data"
    },
    {
     "data": {
      "text/html": [
       "<pre>Downloading http://s3.amazonaws.com/dato-datasets/mnist/sframe/train6k/m_1ae88fdf.frame_idx to /var/tmp/graphlab-Zachary/6767/11ccaf83-bfcb-4a77-ac8d-dd68ccb92c0b.frame_idx</pre>"
      ],
      "text/plain": [
       "Downloading http://s3.amazonaws.com/dato-datasets/mnist/sframe/train6k/m_1ae88fdf.frame_idx to /var/tmp/graphlab-Zachary/6767/11ccaf83-bfcb-4a77-ac8d-dd68ccb92c0b.frame_idx"
      ]
     },
     "metadata": {},
     "output_type": "display_data"
    },
    {
     "data": {
      "text/html": [
       "<pre>Downloading http://s3.amazonaws.com/dato-datasets/mnist/sframe/train6k/m_1ae88fdf.sidx to /var/tmp/graphlab-Zachary/6767/4a8cc581-0733-4675-b0d1-83372ff35268.sidx</pre>"
      ],
      "text/plain": [
       "Downloading http://s3.amazonaws.com/dato-datasets/mnist/sframe/train6k/m_1ae88fdf.sidx to /var/tmp/graphlab-Zachary/6767/4a8cc581-0733-4675-b0d1-83372ff35268.sidx"
      ]
     },
     "metadata": {},
     "output_type": "display_data"
    }
   ],
   "source": [
    "data = gl.SFrame('http://s3.amazonaws.com/dato-datasets/mnist/sframe/train6k')"
   ]
  },
  {
   "cell_type": "code",
   "execution_count": 8,
   "metadata": {
    "collapsed": false
   },
   "outputs": [
    {
     "data": {
      "text/html": [
       "<pre>Downloading http://s3.amazonaws.com/dato-datasets/deeplearning/imagenet_model_iter45/dir_archive.ini to /var/tmp/graphlab-Zachary/6767/6dd7dbaf-24bd-4530-9069-67efab4ab856.ini</pre>"
      ],
      "text/plain": [
       "Downloading http://s3.amazonaws.com/dato-datasets/deeplearning/imagenet_model_iter45/dir_archive.ini to /var/tmp/graphlab-Zachary/6767/6dd7dbaf-24bd-4530-9069-67efab4ab856.ini"
      ]
     },
     "metadata": {},
     "output_type": "display_data"
    },
    {
     "data": {
      "text/html": [
       "<pre>Downloading http://s3.amazonaws.com/dato-datasets/deeplearning/imagenet_model_iter45/objects.bin to /var/tmp/graphlab-Zachary/6767/6bc6c1d5-674e-4ba5-a179-be4314edd686.bin</pre>"
      ],
      "text/plain": [
       "Downloading http://s3.amazonaws.com/dato-datasets/deeplearning/imagenet_model_iter45/objects.bin to /var/tmp/graphlab-Zachary/6767/6bc6c1d5-674e-4ba5-a179-be4314edd686.bin"
      ]
     },
     "metadata": {},
     "output_type": "display_data"
    }
   ],
   "source": [
    "# Create a DeepFeatureExtractorObject\n",
    "#If `model='auto'` is used, an appropriate model is chosen from a collection \n",
    "#of pre-trained models hosted by Dato.\n",
    "\n",
    "extractor = gl.feature_engineering.DeepFeatureExtractor(features = 'image',\n",
    "                                                       model = 'auto')"
   ]
  },
  {
   "cell_type": "code",
   "execution_count": 14,
   "metadata": {
    "collapsed": false
   },
   "outputs": [
    {
     "data": {
      "text/html": [
       "<pre>Downloading http://s3.amazonaws.com/dato-datasets/mnist/sframe/train6k/m_1ae88fdf.0000 to /var/tmp/graphlab-Zachary/6265/d80bc330-8a95-4aa6-b5db-94c0e30fc5b4.0000</pre>"
      ],
      "text/plain": [
       "Downloading http://s3.amazonaws.com/dato-datasets/mnist/sframe/train6k/m_1ae88fdf.0000 to /var/tmp/graphlab-Zachary/6265/d80bc330-8a95-4aa6-b5db-94c0e30fc5b4.0000"
      ]
     },
     "metadata": {},
     "output_type": "display_data"
    },
    {
     "data": {
      "text/html": [
       "<pre>Downloading http://s3.amazonaws.com/dato-datasets/mnist/sframe/train6k/m_1ae88fdf.0001 to /var/tmp/graphlab-Zachary/6265/bfa0bb78-ae41-4c33-af28-a7cbaefe1096.0001</pre>"
      ],
      "text/plain": [
       "Downloading http://s3.amazonaws.com/dato-datasets/mnist/sframe/train6k/m_1ae88fdf.0001 to /var/tmp/graphlab-Zachary/6265/bfa0bb78-ae41-4c33-af28-a7cbaefe1096.0001"
      ]
     },
     "metadata": {},
     "output_type": "display_data"
    },
    {
     "data": {
      "text/html": [
       "<pre>Downloading http://s3.amazonaws.com/dato-datasets/mnist/sframe/train6k/m_1ae88fdf.0002 to /var/tmp/graphlab-Zachary/6265/dc2d3889-d9f5-40ba-8b4a-9500ae4ac2bc.0002</pre>"
      ],
      "text/plain": [
       "Downloading http://s3.amazonaws.com/dato-datasets/mnist/sframe/train6k/m_1ae88fdf.0002 to /var/tmp/graphlab-Zachary/6265/dc2d3889-d9f5-40ba-8b4a-9500ae4ac2bc.0002"
      ]
     },
     "metadata": {},
     "output_type": "display_data"
    },
    {
     "data": {
      "text/html": [
       "<pre>Downloading http://s3.amazonaws.com/dato-datasets/mnist/sframe/train6k/m_1ae88fdf.0003 to /var/tmp/graphlab-Zachary/6265/01b6e173-9dbf-4e94-840a-afd3467a8052.0003</pre>"
      ],
      "text/plain": [
       "Downloading http://s3.amazonaws.com/dato-datasets/mnist/sframe/train6k/m_1ae88fdf.0003 to /var/tmp/graphlab-Zachary/6265/01b6e173-9dbf-4e94-840a-afd3467a8052.0003"
      ]
     },
     "metadata": {},
     "output_type": "display_data"
    },
    {
     "data": {
      "text/html": [
       "<pre>Downloading http://s3.amazonaws.com/dato-datasets/mnist/sframe/train6k/m_1ae88fdf.0004 to /var/tmp/graphlab-Zachary/6265/9076d1fd-3dce-4cb7-aaa5-028f92eb9875.0004</pre>"
      ],
      "text/plain": [
       "Downloading http://s3.amazonaws.com/dato-datasets/mnist/sframe/train6k/m_1ae88fdf.0004 to /var/tmp/graphlab-Zachary/6265/9076d1fd-3dce-4cb7-aaa5-028f92eb9875.0004"
      ]
     },
     "metadata": {},
     "output_type": "display_data"
    },
    {
     "data": {
      "text/html": [
       "<pre>Downloading http://s3.amazonaws.com/dato-datasets/mnist/sframe/train6k/m_1ae88fdf.0005 to /var/tmp/graphlab-Zachary/6265/4d468f3a-5688-4609-8017-394cc915872c.0005</pre>"
      ],
      "text/plain": [
       "Downloading http://s3.amazonaws.com/dato-datasets/mnist/sframe/train6k/m_1ae88fdf.0005 to /var/tmp/graphlab-Zachary/6265/4d468f3a-5688-4609-8017-394cc915872c.0005"
      ]
     },
     "metadata": {},
     "output_type": "display_data"
    },
    {
     "data": {
      "text/html": [
       "<pre>Downloading http://s3.amazonaws.com/dato-datasets/mnist/sframe/train6k/m_1ae88fdf.0006 to /var/tmp/graphlab-Zachary/6265/df879f80-0ad8-4621-b34a-babfa7d1071f.0006</pre>"
      ],
      "text/plain": [
       "Downloading http://s3.amazonaws.com/dato-datasets/mnist/sframe/train6k/m_1ae88fdf.0006 to /var/tmp/graphlab-Zachary/6265/df879f80-0ad8-4621-b34a-babfa7d1071f.0006"
      ]
     },
     "metadata": {},
     "output_type": "display_data"
    },
    {
     "data": {
      "text/html": [
       "<pre>Downloading http://s3.amazonaws.com/dato-datasets/mnist/sframe/train6k/m_1ae88fdf.0007 to /var/tmp/graphlab-Zachary/6265/98e819ad-8990-4b7f-8f1b-cace7e88c84d.0007</pre>"
      ],
      "text/plain": [
       "Downloading http://s3.amazonaws.com/dato-datasets/mnist/sframe/train6k/m_1ae88fdf.0007 to /var/tmp/graphlab-Zachary/6265/98e819ad-8990-4b7f-8f1b-cace7e88c84d.0007"
      ]
     },
     "metadata": {},
     "output_type": "display_data"
    },
    {
     "data": {
      "text/html": [
       "<div style=\"max-height:1000px;max-width:1500px;overflow:auto;\"><table frame=\"box\" rules=\"cols\">\n",
       "    <tr>\n",
       "        <th style=\"padding-left: 1em; padding-right: 1em; text-align: center\">label</th>\n",
       "        <th style=\"padding-left: 1em; padding-right: 1em; text-align: center\">image</th>\n",
       "    </tr>\n",
       "    <tr>\n",
       "        <td style=\"padding-left: 1em; padding-right: 1em; text-align: center; vertical-align: top\">5</td>\n",
       "        <td style=\"padding-left: 1em; padding-right: 1em; text-align: center; vertical-align: top\">Height: 28 Width: 28</td>\n",
       "    </tr>\n",
       "    <tr>\n",
       "        <td style=\"padding-left: 1em; padding-right: 1em; text-align: center; vertical-align: top\">8</td>\n",
       "        <td style=\"padding-left: 1em; padding-right: 1em; text-align: center; vertical-align: top\">Height: 28 Width: 28</td>\n",
       "    </tr>\n",
       "    <tr>\n",
       "        <td style=\"padding-left: 1em; padding-right: 1em; text-align: center; vertical-align: top\">1</td>\n",
       "        <td style=\"padding-left: 1em; padding-right: 1em; text-align: center; vertical-align: top\">Height: 28 Width: 28</td>\n",
       "    </tr>\n",
       "    <tr>\n",
       "        <td style=\"padding-left: 1em; padding-right: 1em; text-align: center; vertical-align: top\">4</td>\n",
       "        <td style=\"padding-left: 1em; padding-right: 1em; text-align: center; vertical-align: top\">Height: 28 Width: 28</td>\n",
       "    </tr>\n",
       "    <tr>\n",
       "        <td style=\"padding-left: 1em; padding-right: 1em; text-align: center; vertical-align: top\">2</td>\n",
       "        <td style=\"padding-left: 1em; padding-right: 1em; text-align: center; vertical-align: top\">Height: 28 Width: 28</td>\n",
       "    </tr>\n",
       "    <tr>\n",
       "        <td style=\"padding-left: 1em; padding-right: 1em; text-align: center; vertical-align: top\">7</td>\n",
       "        <td style=\"padding-left: 1em; padding-right: 1em; text-align: center; vertical-align: top\">Height: 28 Width: 28</td>\n",
       "    </tr>\n",
       "    <tr>\n",
       "        <td style=\"padding-left: 1em; padding-right: 1em; text-align: center; vertical-align: top\">0</td>\n",
       "        <td style=\"padding-left: 1em; padding-right: 1em; text-align: center; vertical-align: top\">Height: 28 Width: 28</td>\n",
       "    </tr>\n",
       "    <tr>\n",
       "        <td style=\"padding-left: 1em; padding-right: 1em; text-align: center; vertical-align: top\">2</td>\n",
       "        <td style=\"padding-left: 1em; padding-right: 1em; text-align: center; vertical-align: top\">Height: 28 Width: 28</td>\n",
       "    </tr>\n",
       "    <tr>\n",
       "        <td style=\"padding-left: 1em; padding-right: 1em; text-align: center; vertical-align: top\">5</td>\n",
       "        <td style=\"padding-left: 1em; padding-right: 1em; text-align: center; vertical-align: top\">Height: 28 Width: 28</td>\n",
       "    </tr>\n",
       "    <tr>\n",
       "        <td style=\"padding-left: 1em; padding-right: 1em; text-align: center; vertical-align: top\">9</td>\n",
       "        <td style=\"padding-left: 1em; padding-right: 1em; text-align: center; vertical-align: top\">Height: 28 Width: 28</td>\n",
       "    </tr>\n",
       "</table>\n",
       "[6000 rows x 2 columns]<br/>Note: Only the head of the SFrame is printed.<br/>You can use print_rows(num_rows=m, num_columns=n) to print more rows and columns.\n",
       "</div>"
      ],
      "text/plain": [
       "Columns:\n",
       "\tlabel\tint\n",
       "\timage\tImage\n",
       "\n",
       "Rows: 6000\n",
       "\n",
       "Data:\n",
       "+-------+----------------------+\n",
       "| label |        image         |\n",
       "+-------+----------------------+\n",
       "|   5   | Height: 28 Width: 28 |\n",
       "|   8   | Height: 28 Width: 28 |\n",
       "|   1   | Height: 28 Width: 28 |\n",
       "|   4   | Height: 28 Width: 28 |\n",
       "|   2   | Height: 28 Width: 28 |\n",
       "|   7   | Height: 28 Width: 28 |\n",
       "|   0   | Height: 28 Width: 28 |\n",
       "|   2   | Height: 28 Width: 28 |\n",
       "|   5   | Height: 28 Width: 28 |\n",
       "|   9   | Height: 28 Width: 28 |\n",
       "+-------+----------------------+\n",
       "[6000 rows x 2 columns]\n",
       "Note: Only the head of the SFrame is printed.\n",
       "You can use print_rows(num_rows=m, num_columns=n) to print more rows and columns."
      ]
     },
     "execution_count": 14,
     "metadata": {},
     "output_type": "execute_result"
    }
   ],
   "source": [
    "data"
   ]
  },
  {
   "cell_type": "code",
   "execution_count": 10,
   "metadata": {
    "collapsed": true
   },
   "outputs": [],
   "source": [
    "extractor = extractor.fit(data)"
   ]
  },
  {
   "cell_type": "code",
   "execution_count": 11,
   "metadata": {
    "collapsed": true
   },
   "outputs": [],
   "source": [
    "# Return the model used for the extraction\n",
    "extracted_model = extractor['model']"
   ]
  },
  {
   "cell_type": "code",
   "execution_count": 12,
   "metadata": {
    "collapsed": false
   },
   "outputs": [
    {
     "data": {
      "text/html": [
       "<pre>Downloading http://s3.amazonaws.com/dato-datasets/mnist/sframe/train6k/m_1ae88fdf.0000 to /var/tmp/graphlab-Zachary/6767/c369c988-c727-407e-855c-ac0071b438c7.0000</pre>"
      ],
      "text/plain": [
       "Downloading http://s3.amazonaws.com/dato-datasets/mnist/sframe/train6k/m_1ae88fdf.0000 to /var/tmp/graphlab-Zachary/6767/c369c988-c727-407e-855c-ac0071b438c7.0000"
      ]
     },
     "metadata": {},
     "output_type": "display_data"
    },
    {
     "data": {
      "text/html": [
       "<pre>Downloading http://s3.amazonaws.com/dato-datasets/mnist/sframe/train6k/m_1ae88fdf.0001 to /var/tmp/graphlab-Zachary/6767/5a19e65f-61d9-4d12-9e63-1a9abd7ca7a5.0001</pre>"
      ],
      "text/plain": [
       "Downloading http://s3.amazonaws.com/dato-datasets/mnist/sframe/train6k/m_1ae88fdf.0001 to /var/tmp/graphlab-Zachary/6767/5a19e65f-61d9-4d12-9e63-1a9abd7ca7a5.0001"
      ]
     },
     "metadata": {},
     "output_type": "display_data"
    },
    {
     "data": {
      "text/html": [
       "<pre>Downloading http://s3.amazonaws.com/dato-datasets/mnist/sframe/train6k/m_1ae88fdf.0002 to /var/tmp/graphlab-Zachary/6767/48e63534-ab40-4023-8155-62be4b4451cb.0002</pre>"
      ],
      "text/plain": [
       "Downloading http://s3.amazonaws.com/dato-datasets/mnist/sframe/train6k/m_1ae88fdf.0002 to /var/tmp/graphlab-Zachary/6767/48e63534-ab40-4023-8155-62be4b4451cb.0002"
      ]
     },
     "metadata": {},
     "output_type": "display_data"
    },
    {
     "data": {
      "text/html": [
       "<pre>Downloading http://s3.amazonaws.com/dato-datasets/mnist/sframe/train6k/m_1ae88fdf.0003 to /var/tmp/graphlab-Zachary/6767/0727680b-c94b-4131-9f2b-7c54556415e3.0003</pre>"
      ],
      "text/plain": [
       "Downloading http://s3.amazonaws.com/dato-datasets/mnist/sframe/train6k/m_1ae88fdf.0003 to /var/tmp/graphlab-Zachary/6767/0727680b-c94b-4131-9f2b-7c54556415e3.0003"
      ]
     },
     "metadata": {},
     "output_type": "display_data"
    },
    {
     "data": {
      "text/html": [
       "<pre>Downloading http://s3.amazonaws.com/dato-datasets/mnist/sframe/train6k/m_1ae88fdf.0004 to /var/tmp/graphlab-Zachary/6767/e32a83ec-c1a4-4c11-8f01-397f1f145bfb.0004</pre>"
      ],
      "text/plain": [
       "Downloading http://s3.amazonaws.com/dato-datasets/mnist/sframe/train6k/m_1ae88fdf.0004 to /var/tmp/graphlab-Zachary/6767/e32a83ec-c1a4-4c11-8f01-397f1f145bfb.0004"
      ]
     },
     "metadata": {},
     "output_type": "display_data"
    },
    {
     "data": {
      "text/html": [
       "<pre>Downloading http://s3.amazonaws.com/dato-datasets/mnist/sframe/train6k/m_1ae88fdf.0005 to /var/tmp/graphlab-Zachary/6767/e7d2a386-6ce5-4ce0-a233-4c25b94039d0.0005</pre>"
      ],
      "text/plain": [
       "Downloading http://s3.amazonaws.com/dato-datasets/mnist/sframe/train6k/m_1ae88fdf.0005 to /var/tmp/graphlab-Zachary/6767/e7d2a386-6ce5-4ce0-a233-4c25b94039d0.0005"
      ]
     },
     "metadata": {},
     "output_type": "display_data"
    },
    {
     "data": {
      "text/html": [
       "<pre>Downloading http://s3.amazonaws.com/dato-datasets/mnist/sframe/train6k/m_1ae88fdf.0006 to /var/tmp/graphlab-Zachary/6767/2e022e37-2845-4fb1-b0cb-e3e55f35e036.0006</pre>"
      ],
      "text/plain": [
       "Downloading http://s3.amazonaws.com/dato-datasets/mnist/sframe/train6k/m_1ae88fdf.0006 to /var/tmp/graphlab-Zachary/6767/2e022e37-2845-4fb1-b0cb-e3e55f35e036.0006"
      ]
     },
     "metadata": {},
     "output_type": "display_data"
    },
    {
     "data": {
      "text/html": [
       "<pre>Downloading http://s3.amazonaws.com/dato-datasets/mnist/sframe/train6k/m_1ae88fdf.0007 to /var/tmp/graphlab-Zachary/6767/d9f90fd2-fa46-4b87-926f-8df8a6893ad8.0007</pre>"
      ],
      "text/plain": [
       "Downloading http://s3.amazonaws.com/dato-datasets/mnist/sframe/train6k/m_1ae88fdf.0007 to /var/tmp/graphlab-Zachary/6767/d9f90fd2-fa46-4b87-926f-8df8a6893ad8.0007"
      ]
     },
     "metadata": {},
     "output_type": "display_data"
    },
    {
     "data": {
      "text/html": [
       "<pre>Images being resized.</pre>"
      ],
      "text/plain": [
       "Images being resized."
      ]
     },
     "metadata": {},
     "output_type": "display_data"
    }
   ],
   "source": [
    "# Extract the features from the MNIST dataset:\n",
    "features_sf = extractor.transform(data)"
   ]
  },
  {
   "cell_type": "code",
   "execution_count": 16,
   "metadata": {
    "collapsed": false
   },
   "outputs": [
    {
     "name": "stdout",
     "output_type": "stream",
     "text": [
      "PROGRESS: Creating a validation set from 5 percent of training data. This may take a while.\n",
      "          You can set ``validation_set=None`` to disable validation tracking.\n",
      "\n"
     ]
    },
    {
     "data": {
      "text/html": [
       "<pre>WARNING: Detected extremely low variance for feature(s) 'deep_features.image' because all entries are nearly the same.\n",
       "Proceeding with model training using all features. If the model does not provide results of adequate quality, exclude the above mentioned feature(s) from the input dataset.</pre>"
      ],
      "text/plain": [
       "WARNING: Detected extremely low variance for feature(s) 'deep_features.image' because all entries are nearly the same.\n",
       "Proceeding with model training using all features. If the model does not provide results of adequate quality, exclude the above mentioned feature(s) from the input dataset."
      ]
     },
     "metadata": {},
     "output_type": "display_data"
    },
    {
     "data": {
      "text/html": [
       "<pre>Logistic regression:</pre>"
      ],
      "text/plain": [
       "Logistic regression:"
      ]
     },
     "metadata": {},
     "output_type": "display_data"
    },
    {
     "data": {
      "text/html": [
       "<pre>--------------------------------------------------------</pre>"
      ],
      "text/plain": [
       "--------------------------------------------------------"
      ]
     },
     "metadata": {},
     "output_type": "display_data"
    },
    {
     "data": {
      "text/html": [
       "<pre>Number of examples          : 5689</pre>"
      ],
      "text/plain": [
       "Number of examples          : 5689"
      ]
     },
     "metadata": {},
     "output_type": "display_data"
    },
    {
     "data": {
      "text/html": [
       "<pre>Number of classes           : 10</pre>"
      ],
      "text/plain": [
       "Number of classes           : 10"
      ]
     },
     "metadata": {},
     "output_type": "display_data"
    },
    {
     "data": {
      "text/html": [
       "<pre>Number of feature columns   : 1</pre>"
      ],
      "text/plain": [
       "Number of feature columns   : 1"
      ]
     },
     "metadata": {},
     "output_type": "display_data"
    },
    {
     "data": {
      "text/html": [
       "<pre>Number of unpacked features : 4096</pre>"
      ],
      "text/plain": [
       "Number of unpacked features : 4096"
      ]
     },
     "metadata": {},
     "output_type": "display_data"
    },
    {
     "data": {
      "text/html": [
       "<pre>Number of coefficients    : 36873</pre>"
      ],
      "text/plain": [
       "Number of coefficients    : 36873"
      ]
     },
     "metadata": {},
     "output_type": "display_data"
    },
    {
     "data": {
      "text/html": [
       "<pre>Starting L-BFGS</pre>"
      ],
      "text/plain": [
       "Starting L-BFGS"
      ]
     },
     "metadata": {},
     "output_type": "display_data"
    },
    {
     "data": {
      "text/html": [
       "<pre>--------------------------------------------------------</pre>"
      ],
      "text/plain": [
       "--------------------------------------------------------"
      ]
     },
     "metadata": {},
     "output_type": "display_data"
    },
    {
     "data": {
      "text/html": [
       "<pre>+-----------+----------+-----------+--------------+-------------------+---------------------+</pre>"
      ],
      "text/plain": [
       "+-----------+----------+-----------+--------------+-------------------+---------------------+"
      ]
     },
     "metadata": {},
     "output_type": "display_data"
    },
    {
     "data": {
      "text/html": [
       "<pre>| Iteration | Passes   | Step size | Elapsed Time | Training-accuracy | Validation-accuracy |</pre>"
      ],
      "text/plain": [
       "| Iteration | Passes   | Step size | Elapsed Time | Training-accuracy | Validation-accuracy |"
      ]
     },
     "metadata": {},
     "output_type": "display_data"
    },
    {
     "data": {
      "text/html": [
       "<pre>+-----------+----------+-----------+--------------+-------------------+---------------------+</pre>"
      ],
      "text/plain": [
       "+-----------+----------+-----------+--------------+-------------------+---------------------+"
      ]
     },
     "metadata": {},
     "output_type": "display_data"
    },
    {
     "data": {
      "text/html": [
       "<pre>| 1         | 4        | 0.000088  | 7.478890     | 0.654245          | 0.652733            |</pre>"
      ],
      "text/plain": [
       "| 1         | 4        | 0.000088  | 7.478890     | 0.654245          | 0.652733            |"
      ]
     },
     "metadata": {},
     "output_type": "display_data"
    },
    {
     "data": {
      "text/html": [
       "<pre>| 2         | 7        | 0.500000  | 13.113175    | 0.720337          | 0.710611            |</pre>"
      ],
      "text/plain": [
       "| 2         | 7        | 0.500000  | 13.113175    | 0.720337          | 0.710611            |"
      ]
     },
     "metadata": {},
     "output_type": "display_data"
    },
    {
     "data": {
      "text/html": [
       "<pre>| 3         | 8        | 0.500000  | 15.243200    | 0.782387          | 0.774920            |</pre>"
      ],
      "text/plain": [
       "| 3         | 8        | 0.500000  | 15.243200    | 0.782387          | 0.774920            |"
      ]
     },
     "metadata": {},
     "output_type": "display_data"
    },
    {
     "data": {
      "text/html": [
       "<pre>| 4         | 9        | 0.500000  | 17.372123    | 0.822640          | 0.823151            |</pre>"
      ],
      "text/plain": [
       "| 4         | 9        | 0.500000  | 17.372123    | 0.822640          | 0.823151            |"
      ]
     },
     "metadata": {},
     "output_type": "display_data"
    },
    {
     "data": {
      "text/html": [
       "<pre>| 5         | 10       | 0.500000  | 19.518137    | 0.844612          | 0.852090            |</pre>"
      ],
      "text/plain": [
       "| 5         | 10       | 0.500000  | 19.518137    | 0.844612          | 0.852090            |"
      ]
     },
     "metadata": {},
     "output_type": "display_data"
    },
    {
     "data": {
      "text/html": [
       "<pre>| 6         | 11       | 0.500000  | 21.738012    | 0.876077          | 0.871383            |</pre>"
      ],
      "text/plain": [
       "| 6         | 11       | 0.500000  | 21.738012    | 0.876077          | 0.871383            |"
      ]
     },
     "metadata": {},
     "output_type": "display_data"
    },
    {
     "data": {
      "text/html": [
       "<pre>| 7         | 12       | 0.500000  | 23.897893    | 0.913693          | 0.909968            |</pre>"
      ],
      "text/plain": [
       "| 7         | 12       | 0.500000  | 23.897893    | 0.913693          | 0.909968            |"
      ]
     },
     "metadata": {},
     "output_type": "display_data"
    },
    {
     "data": {
      "text/html": [
       "<pre>| 8         | 13       | 0.500000  | 26.036488    | 0.931622          | 0.919614            |</pre>"
      ],
      "text/plain": [
       "| 8         | 13       | 0.500000  | 26.036488    | 0.931622          | 0.919614            |"
      ]
     },
     "metadata": {},
     "output_type": "display_data"
    },
    {
     "data": {
      "text/html": [
       "<pre>| 9         | 14       | 0.500000  | 28.158862    | 0.943575          | 0.942122            |</pre>"
      ],
      "text/plain": [
       "| 9         | 14       | 0.500000  | 28.158862    | 0.943575          | 0.942122            |"
      ]
     },
     "metadata": {},
     "output_type": "display_data"
    },
    {
     "data": {
      "text/html": [
       "<pre>| 10        | 15       | 0.500000  | 30.308360    | 0.949200          | 0.954984            |</pre>"
      ],
      "text/plain": [
       "| 10        | 15       | 0.500000  | 30.308360    | 0.949200          | 0.954984            |"
      ]
     },
     "metadata": {},
     "output_type": "display_data"
    },
    {
     "data": {
      "text/html": [
       "<pre>| 11        | 16       | 0.500000  | 32.465593    | 0.955177          | 0.951768            |</pre>"
      ],
      "text/plain": [
       "| 11        | 16       | 0.500000  | 32.465593    | 0.955177          | 0.951768            |"
      ]
     },
     "metadata": {},
     "output_type": "display_data"
    },
    {
     "data": {
      "text/html": [
       "<pre>| 12        | 17       | 0.500000  | 34.600176    | 0.964317          | 0.948553            |</pre>"
      ],
      "text/plain": [
       "| 12        | 17       | 0.500000  | 34.600176    | 0.964317          | 0.948553            |"
      ]
     },
     "metadata": {},
     "output_type": "display_data"
    },
    {
     "data": {
      "text/html": [
       "<pre>| 13        | 18       | 0.500000  | 36.747108    | 0.975215          | 0.951768            |</pre>"
      ],
      "text/plain": [
       "| 13        | 18       | 0.500000  | 36.747108    | 0.975215          | 0.951768            |"
      ]
     },
     "metadata": {},
     "output_type": "display_data"
    },
    {
     "data": {
      "text/html": [
       "<pre>| 14        | 19       | 0.500000  | 38.885231    | 0.976797          | 0.948553            |</pre>"
      ],
      "text/plain": [
       "| 14        | 19       | 0.500000  | 38.885231    | 0.976797          | 0.948553            |"
      ]
     },
     "metadata": {},
     "output_type": "display_data"
    },
    {
     "data": {
      "text/html": [
       "<pre>| 15        | 20       | 0.500000  | 41.009663    | 0.982422          | 0.948553            |</pre>"
      ],
      "text/plain": [
       "| 15        | 20       | 0.500000  | 41.009663    | 0.982422          | 0.948553            |"
      ]
     },
     "metadata": {},
     "output_type": "display_data"
    },
    {
     "data": {
      "text/html": [
       "<pre>| 16        | 21       | 0.500000  | 43.132293    | 0.988223          | 0.954984            |</pre>"
      ],
      "text/plain": [
       "| 16        | 21       | 0.500000  | 43.132293    | 0.988223          | 0.954984            |"
      ]
     },
     "metadata": {},
     "output_type": "display_data"
    },
    {
     "data": {
      "text/html": [
       "<pre>| 17        | 22       | 0.500000  | 45.334861    | 0.990508          | 0.951768            |</pre>"
      ],
      "text/plain": [
       "| 17        | 22       | 0.500000  | 45.334861    | 0.990508          | 0.951768            |"
      ]
     },
     "metadata": {},
     "output_type": "display_data"
    },
    {
     "data": {
      "text/html": [
       "<pre>| 18        | 23       | 0.500000  | 47.693051    | 0.992090          | 0.951768            |</pre>"
      ],
      "text/plain": [
       "| 18        | 23       | 0.500000  | 47.693051    | 0.992090          | 0.951768            |"
      ]
     },
     "metadata": {},
     "output_type": "display_data"
    },
    {
     "data": {
      "text/html": [
       "<pre>| 19        | 24       | 0.500000  | 49.843541    | 0.993848          | 0.948553            |</pre>"
      ],
      "text/plain": [
       "| 19        | 24       | 0.500000  | 49.843541    | 0.993848          | 0.948553            |"
      ]
     },
     "metadata": {},
     "output_type": "display_data"
    },
    {
     "data": {
      "text/html": [
       "<pre>| 20        | 25       | 0.500000  | 51.957261    | 0.996133          | 0.958199            |</pre>"
      ],
      "text/plain": [
       "| 20        | 25       | 0.500000  | 51.957261    | 0.996133          | 0.958199            |"
      ]
     },
     "metadata": {},
     "output_type": "display_data"
    },
    {
     "data": {
      "text/html": [
       "<pre>| 21        | 26       | 0.500000  | 54.094312    | 0.997363          | 0.954984            |</pre>"
      ],
      "text/plain": [
       "| 21        | 26       | 0.500000  | 54.094312    | 0.997363          | 0.954984            |"
      ]
     },
     "metadata": {},
     "output_type": "display_data"
    },
    {
     "data": {
      "text/html": [
       "<pre>| 22        | 27       | 0.500000  | 56.258054    | 0.998770          | 0.945338            |</pre>"
      ],
      "text/plain": [
       "| 22        | 27       | 0.500000  | 56.258054    | 0.998770          | 0.945338            |"
      ]
     },
     "metadata": {},
     "output_type": "display_data"
    },
    {
     "data": {
      "text/html": [
       "<pre>| 23        | 28       | 0.500000  | 58.393539    | 0.999121          | 0.954984            |</pre>"
      ],
      "text/plain": [
       "| 23        | 28       | 0.500000  | 58.393539    | 0.999121          | 0.954984            |"
      ]
     },
     "metadata": {},
     "output_type": "display_data"
    },
    {
     "data": {
      "text/html": [
       "<pre>| 24        | 29       | 0.500000  | 60.535293    | 0.999648          | 0.958199            |</pre>"
      ],
      "text/plain": [
       "| 24        | 29       | 0.500000  | 60.535293    | 0.999648          | 0.958199            |"
      ]
     },
     "metadata": {},
     "output_type": "display_data"
    },
    {
     "data": {
      "text/html": [
       "<pre>| 25        | 30       | 0.500000  | 62.649908    | 1.000000          | 0.958199            |</pre>"
      ],
      "text/plain": [
       "| 25        | 30       | 0.500000  | 62.649908    | 1.000000          | 0.958199            |"
      ]
     },
     "metadata": {},
     "output_type": "display_data"
    },
    {
     "data": {
      "text/html": [
       "<pre>| 26        | 31       | 0.500000  | 64.787816    | 1.000000          | 0.961415            |</pre>"
      ],
      "text/plain": [
       "| 26        | 31       | 0.500000  | 64.787816    | 1.000000          | 0.961415            |"
      ]
     },
     "metadata": {},
     "output_type": "display_data"
    },
    {
     "data": {
      "text/html": [
       "<pre>| 27        | 32       | 0.500000  | 66.913456    | 1.000000          | 0.961415            |</pre>"
      ],
      "text/plain": [
       "| 27        | 32       | 0.500000  | 66.913456    | 1.000000          | 0.961415            |"
      ]
     },
     "metadata": {},
     "output_type": "display_data"
    },
    {
     "data": {
      "text/html": [
       "<pre>| 28        | 33       | 0.500000  | 69.044328    | 1.000000          | 0.945338            |</pre>"
      ],
      "text/plain": [
       "| 28        | 33       | 0.500000  | 69.044328    | 1.000000          | 0.945338            |"
      ]
     },
     "metadata": {},
     "output_type": "display_data"
    },
    {
     "data": {
      "text/html": [
       "<pre>| 29        | 34       | 0.500000  | 71.175214    | 1.000000          | 0.938907            |</pre>"
      ],
      "text/plain": [
       "| 29        | 34       | 0.500000  | 71.175214    | 1.000000          | 0.938907            |"
      ]
     },
     "metadata": {},
     "output_type": "display_data"
    },
    {
     "data": {
      "text/html": [
       "<pre>| 30        | 35       | 0.500000  | 73.354350    | 1.000000          | 0.945338            |</pre>"
      ],
      "text/plain": [
       "| 30        | 35       | 0.500000  | 73.354350    | 1.000000          | 0.945338            |"
      ]
     },
     "metadata": {},
     "output_type": "display_data"
    },
    {
     "data": {
      "text/html": [
       "<pre>| 31        | 36       | 0.500000  | 75.516145    | 1.000000          | 0.938907            |</pre>"
      ],
      "text/plain": [
       "| 31        | 36       | 0.500000  | 75.516145    | 1.000000          | 0.938907            |"
      ]
     },
     "metadata": {},
     "output_type": "display_data"
    },
    {
     "data": {
      "text/html": [
       "<pre>| 32        | 37       | 0.500000  | 77.625546    | 1.000000          | 0.938907            |</pre>"
      ],
      "text/plain": [
       "| 32        | 37       | 0.500000  | 77.625546    | 1.000000          | 0.938907            |"
      ]
     },
     "metadata": {},
     "output_type": "display_data"
    },
    {
     "data": {
      "text/html": [
       "<pre>| 33        | 38       | 0.500000  | 79.779016    | 1.000000          | 0.942122            |</pre>"
      ],
      "text/plain": [
       "| 33        | 38       | 0.500000  | 79.779016    | 1.000000          | 0.942122            |"
      ]
     },
     "metadata": {},
     "output_type": "display_data"
    },
    {
     "data": {
      "text/html": [
       "<pre>| 34        | 39       | 0.500000  | 81.944148    | 1.000000          | 0.942122            |</pre>"
      ],
      "text/plain": [
       "| 34        | 39       | 0.500000  | 81.944148    | 1.000000          | 0.942122            |"
      ]
     },
     "metadata": {},
     "output_type": "display_data"
    },
    {
     "data": {
      "text/html": [
       "<pre>| 35        | 40       | 0.500000  | 84.065899    | 1.000000          | 0.948553            |</pre>"
      ],
      "text/plain": [
       "| 35        | 40       | 0.500000  | 84.065899    | 1.000000          | 0.948553            |"
      ]
     },
     "metadata": {},
     "output_type": "display_data"
    },
    {
     "data": {
      "text/html": [
       "<pre>| 36        | 41       | 0.500000  | 86.205500    | 1.000000          | 0.945338            |</pre>"
      ],
      "text/plain": [
       "| 36        | 41       | 0.500000  | 86.205500    | 1.000000          | 0.945338            |"
      ]
     },
     "metadata": {},
     "output_type": "display_data"
    },
    {
     "data": {
      "text/html": [
       "<pre>| 37        | 42       | 0.500000  | 88.524960    | 1.000000          | 0.951768            |</pre>"
      ],
      "text/plain": [
       "| 37        | 42       | 0.500000  | 88.524960    | 1.000000          | 0.951768            |"
      ]
     },
     "metadata": {},
     "output_type": "display_data"
    },
    {
     "data": {
      "text/html": [
       "<pre>| 38        | 43       | 0.500000  | 90.681943    | 1.000000          | 0.948553            |</pre>"
      ],
      "text/plain": [
       "| 38        | 43       | 0.500000  | 90.681943    | 1.000000          | 0.948553            |"
      ]
     },
     "metadata": {},
     "output_type": "display_data"
    },
    {
     "data": {
      "text/html": [
       "<pre>| 39        | 44       | 0.500000  | 92.810184    | 1.000000          | 0.951768            |</pre>"
      ],
      "text/plain": [
       "| 39        | 44       | 0.500000  | 92.810184    | 1.000000          | 0.951768            |"
      ]
     },
     "metadata": {},
     "output_type": "display_data"
    },
    {
     "data": {
      "text/html": [
       "<pre>| 40        | 45       | 0.500000  | 95.326354    | 1.000000          | 0.948553            |</pre>"
      ],
      "text/plain": [
       "| 40        | 45       | 0.500000  | 95.326354    | 1.000000          | 0.948553            |"
      ]
     },
     "metadata": {},
     "output_type": "display_data"
    },
    {
     "data": {
      "text/html": [
       "<pre>| 41        | 46       | 0.500000  | 97.774235    | 1.000000          | 0.948553            |</pre>"
      ],
      "text/plain": [
       "| 41        | 46       | 0.500000  | 97.774235    | 1.000000          | 0.948553            |"
      ]
     },
     "metadata": {},
     "output_type": "display_data"
    },
    {
     "data": {
      "text/html": [
       "<pre>| 42        | 47       | 0.500000  | 99.935265    | 1.000000          | 0.948553            |</pre>"
      ],
      "text/plain": [
       "| 42        | 47       | 0.500000  | 99.935265    | 1.000000          | 0.948553            |"
      ]
     },
     "metadata": {},
     "output_type": "display_data"
    },
    {
     "data": {
      "text/html": [
       "<pre>| 43        | 48       | 0.500000  | 102.379139   | 1.000000          | 0.948553            |</pre>"
      ],
      "text/plain": [
       "| 43        | 48       | 0.500000  | 102.379139   | 1.000000          | 0.948553            |"
      ]
     },
     "metadata": {},
     "output_type": "display_data"
    },
    {
     "data": {
      "text/html": [
       "<pre>| 44        | 49       | 0.500000  | 104.792839   | 1.000000          | 0.948553            |</pre>"
      ],
      "text/plain": [
       "| 44        | 49       | 0.500000  | 104.792839   | 1.000000          | 0.948553            |"
      ]
     },
     "metadata": {},
     "output_type": "display_data"
    },
    {
     "data": {
      "text/html": [
       "<pre>| 45        | 50       | 0.500000  | 107.079557   | 1.000000          | 0.951768            |</pre>"
      ],
      "text/plain": [
       "| 45        | 50       | 0.500000  | 107.079557   | 1.000000          | 0.951768            |"
      ]
     },
     "metadata": {},
     "output_type": "display_data"
    },
    {
     "data": {
      "text/html": [
       "<pre>| 46        | 51       | 0.500000  | 109.218560   | 1.000000          | 0.954984            |</pre>"
      ],
      "text/plain": [
       "| 46        | 51       | 0.500000  | 109.218560   | 1.000000          | 0.954984            |"
      ]
     },
     "metadata": {},
     "output_type": "display_data"
    },
    {
     "data": {
      "text/html": [
       "<pre>| 47        | 52       | 0.500000  | 111.380562   | 1.000000          | 0.958199            |</pre>"
      ],
      "text/plain": [
       "| 47        | 52       | 0.500000  | 111.380562   | 1.000000          | 0.958199            |"
      ]
     },
     "metadata": {},
     "output_type": "display_data"
    },
    {
     "data": {
      "text/html": [
       "<pre>| 48        | 54       | 1.000000  | 115.242466   | 1.000000          | 0.958199            |</pre>"
      ],
      "text/plain": [
       "| 48        | 54       | 1.000000  | 115.242466   | 1.000000          | 0.958199            |"
      ]
     },
     "metadata": {},
     "output_type": "display_data"
    },
    {
     "data": {
      "text/html": [
       "<pre>| 49        | 56       | 1.000000  | 119.244133   | 1.000000          | 0.958199            |</pre>"
      ],
      "text/plain": [
       "| 49        | 56       | 1.000000  | 119.244133   | 1.000000          | 0.958199            |"
      ]
     },
     "metadata": {},
     "output_type": "display_data"
    },
    {
     "data": {
      "text/html": [
       "<pre>| 50        | 57       | 1.000000  | 121.374143   | 1.000000          | 0.958199            |</pre>"
      ],
      "text/plain": [
       "| 50        | 57       | 1.000000  | 121.374143   | 1.000000          | 0.958199            |"
      ]
     },
     "metadata": {},
     "output_type": "display_data"
    },
    {
     "data": {
      "text/html": [
       "<pre>+-----------+----------+-----------+--------------+-------------------+---------------------+</pre>"
      ],
      "text/plain": [
       "+-----------+----------+-----------+--------------+-------------------+---------------------+"
      ]
     },
     "metadata": {},
     "output_type": "display_data"
    },
    {
     "data": {
      "text/html": [
       "<pre>TERMINATED: Iteration limit reached.</pre>"
      ],
      "text/plain": [
       "TERMINATED: Iteration limit reached."
      ]
     },
     "metadata": {},
     "output_type": "display_data"
    },
    {
     "data": {
      "text/html": [
       "<pre>This model may not be optimal. To improve it, consider increasing `max_iterations`.</pre>"
      ],
      "text/plain": [
       "This model may not be optimal. To improve it, consider increasing `max_iterations`."
      ]
     },
     "metadata": {},
     "output_type": "display_data"
    }
   ],
   "source": [
    "# Train the classifier\n",
    "model = gl.logistic_classifier.create(features_sf, target='label', \n",
    "                              features =  ['deep_features.image'], max_iterations = 50)"
   ]
  },
  {
   "cell_type": "code",
   "execution_count": 14,
   "metadata": {
    "collapsed": false
   },
   "outputs": [
    {
     "data": {
      "text/html": [
       "<div style=\"max-height:1000px;max-width:1500px;overflow:auto;\"><table frame=\"box\" rules=\"cols\">\n",
       "    <tr>\n",
       "        <th style=\"padding-left: 1em; padding-right: 1em; text-align: center\">label</th>\n",
       "        <th style=\"padding-left: 1em; padding-right: 1em; text-align: center\">image</th>\n",
       "        <th style=\"padding-left: 1em; padding-right: 1em; text-align: center\">deep_features.image</th>\n",
       "    </tr>\n",
       "    <tr>\n",
       "        <td style=\"padding-left: 1em; padding-right: 1em; text-align: center; vertical-align: top\">5</td>\n",
       "        <td style=\"padding-left: 1em; padding-right: 1em; text-align: center; vertical-align: top\">Height: 28 Width: 28</td>\n",
       "        <td style=\"padding-left: 1em; padding-right: 1em; text-align: center; vertical-align: top\">[0.867674469948, 0.0,<br>0.0, 0.0, 0.0, ...</td>\n",
       "    </tr>\n",
       "    <tr>\n",
       "        <td style=\"padding-left: 1em; padding-right: 1em; text-align: center; vertical-align: top\">8</td>\n",
       "        <td style=\"padding-left: 1em; padding-right: 1em; text-align: center; vertical-align: top\">Height: 28 Width: 28</td>\n",
       "        <td style=\"padding-left: 1em; padding-right: 1em; text-align: center; vertical-align: top\">[0.917664110661, 0.0,<br>0.0, 0.0, 0.0, 0.0, ...</td>\n",
       "    </tr>\n",
       "    <tr>\n",
       "        <td style=\"padding-left: 1em; padding-right: 1em; text-align: center; vertical-align: top\">1</td>\n",
       "        <td style=\"padding-left: 1em; padding-right: 1em; text-align: center; vertical-align: top\">Height: 28 Width: 28</td>\n",
       "        <td style=\"padding-left: 1em; padding-right: 1em; text-align: center; vertical-align: top\">[0.0, 0.0, 0.0, 0.0, 0.0,<br>0.0, 5.22062730789, ...</td>\n",
       "    </tr>\n",
       "    <tr>\n",
       "        <td style=\"padding-left: 1em; padding-right: 1em; text-align: center; vertical-align: top\">4</td>\n",
       "        <td style=\"padding-left: 1em; padding-right: 1em; text-align: center; vertical-align: top\">Height: 28 Width: 28</td>\n",
       "        <td style=\"padding-left: 1em; padding-right: 1em; text-align: center; vertical-align: top\">[0.0, 0.0, 0.0, 0.0, 0.0,<br>0.0, 6.5784406662, ...</td>\n",
       "    </tr>\n",
       "    <tr>\n",
       "        <td style=\"padding-left: 1em; padding-right: 1em; text-align: center; vertical-align: top\">2</td>\n",
       "        <td style=\"padding-left: 1em; padding-right: 1em; text-align: center; vertical-align: top\">Height: 28 Width: 28</td>\n",
       "        <td style=\"padding-left: 1em; padding-right: 1em; text-align: center; vertical-align: top\">[0.0, 0.0, 0.0, 0.0, 0.0,<br>0.010726749897, ...</td>\n",
       "    </tr>\n",
       "    <tr>\n",
       "        <td style=\"padding-left: 1em; padding-right: 1em; text-align: center; vertical-align: top\">7</td>\n",
       "        <td style=\"padding-left: 1em; padding-right: 1em; text-align: center; vertical-align: top\">Height: 28 Width: 28</td>\n",
       "        <td style=\"padding-left: 1em; padding-right: 1em; text-align: center; vertical-align: top\">[0.0811710357666, 0.0,<br>0.0, 0.0, 0.0, 0.0, ...</td>\n",
       "    </tr>\n",
       "    <tr>\n",
       "        <td style=\"padding-left: 1em; padding-right: 1em; text-align: center; vertical-align: top\">0</td>\n",
       "        <td style=\"padding-left: 1em; padding-right: 1em; text-align: center; vertical-align: top\">Height: 28 Width: 28</td>\n",
       "        <td style=\"padding-left: 1em; padding-right: 1em; text-align: center; vertical-align: top\">[1.0449038744, 0.0, 0.0,<br>0.0, 0.0, 0.0, ...</td>\n",
       "    </tr>\n",
       "    <tr>\n",
       "        <td style=\"padding-left: 1em; padding-right: 1em; text-align: center; vertical-align: top\">2</td>\n",
       "        <td style=\"padding-left: 1em; padding-right: 1em; text-align: center; vertical-align: top\">Height: 28 Width: 28</td>\n",
       "        <td style=\"padding-left: 1em; padding-right: 1em; text-align: center; vertical-align: top\">[1.41272735596, 0.0, 0.0,<br>0.309982180595, 0.0,  ...</td>\n",
       "    </tr>\n",
       "    <tr>\n",
       "        <td style=\"padding-left: 1em; padding-right: 1em; text-align: center; vertical-align: top\">5</td>\n",
       "        <td style=\"padding-left: 1em; padding-right: 1em; text-align: center; vertical-align: top\">Height: 28 Width: 28</td>\n",
       "        <td style=\"padding-left: 1em; padding-right: 1em; text-align: center; vertical-align: top\">[1.64819729328, 0.0, 0.0,<br>0.0, 0.0, 0.753852069 ...</td>\n",
       "    </tr>\n",
       "    <tr>\n",
       "        <td style=\"padding-left: 1em; padding-right: 1em; text-align: center; vertical-align: top\">9</td>\n",
       "        <td style=\"padding-left: 1em; padding-right: 1em; text-align: center; vertical-align: top\">Height: 28 Width: 28</td>\n",
       "        <td style=\"padding-left: 1em; padding-right: 1em; text-align: center; vertical-align: top\">[0.0, 0.0, 0.0, 0.0, 0.0,<br>0.0, 6.52670145035, ...</td>\n",
       "    </tr>\n",
       "</table>\n",
       "[6000 rows x 3 columns]<br/>Note: Only the head of the SFrame is printed.<br/>You can use print_rows(num_rows=m, num_columns=n) to print more rows and columns.\n",
       "</div>"
      ],
      "text/plain": [
       "Columns:\n",
       "\tlabel\tint\n",
       "\timage\tImage\n",
       "\tdeep_features.image\tarray\n",
       "\n",
       "Rows: 6000\n",
       "\n",
       "Data:\n",
       "+-------+----------------------+-------------------------------+\n",
       "| label |        image         |      deep_features.image      |\n",
       "+-------+----------------------+-------------------------------+\n",
       "|   5   | Height: 28 Width: 28 | [0.867674469948, 0.0, 0.0,... |\n",
       "|   8   | Height: 28 Width: 28 | [0.917664110661, 0.0, 0.0,... |\n",
       "|   1   | Height: 28 Width: 28 | [0.0, 0.0, 0.0, 0.0, 0.0, ... |\n",
       "|   4   | Height: 28 Width: 28 | [0.0, 0.0, 0.0, 0.0, 0.0, ... |\n",
       "|   2   | Height: 28 Width: 28 | [0.0, 0.0, 0.0, 0.0, 0.0, ... |\n",
       "|   7   | Height: 28 Width: 28 | [0.0811710357666, 0.0, 0.0... |\n",
       "|   0   | Height: 28 Width: 28 | [1.0449038744, 0.0, 0.0, 0... |\n",
       "|   2   | Height: 28 Width: 28 | [1.41272735596, 0.0, 0.0, ... |\n",
       "|   5   | Height: 28 Width: 28 | [1.64819729328, 0.0, 0.0, ... |\n",
       "|   9   | Height: 28 Width: 28 | [0.0, 0.0, 0.0, 0.0, 0.0, ... |\n",
       "+-------+----------------------+-------------------------------+\n",
       "[6000 rows x 3 columns]\n",
       "Note: Only the head of the SFrame is printed.\n",
       "You can use print_rows(num_rows=m, num_columns=n) to print more rows and columns."
      ]
     },
     "execution_count": 14,
     "metadata": {},
     "output_type": "execute_result"
    }
   ],
   "source": [
    "features_sf"
   ]
  },
  {
   "cell_type": "code",
   "execution_count": null,
   "metadata": {
    "collapsed": true
   },
   "outputs": [],
   "source": []
  }
 ],
 "metadata": {
  "kernelspec": {
   "display_name": "Python 2",
   "language": "python",
   "name": "python2"
  },
  "language_info": {
   "codemirror_mode": {
    "name": "ipython",
    "version": 2
   },
   "file_extension": ".py",
   "mimetype": "text/x-python",
   "name": "python",
   "nbconvert_exporter": "python",
   "pygments_lexer": "ipython2",
   "version": "2.7.11"
  }
 },
 "nbformat": 4,
 "nbformat_minor": 0
}
